{
  "cells": [
    {
      "cell_type": "markdown",
      "metadata": {
        "id": "M6R6pPNV5Q0T"
      },
      "source": []
    },
    {
      "cell_type": "markdown",
      "metadata": {
        "id": "kYVxkT9mBMlt"
      },
      "source": [
        "# Começando\n"
      ]
    },
    {
      "cell_type": "code",
      "execution_count": 31,
      "metadata": {
        "id": "cxfy3MhaBP12"
      },
      "outputs": [],
      "source": [
        "import matplotlib.pyplot as plt\n",
        "import pandas as pd \n",
        "import math\n",
        "import numpy as np\n",
        "from mpl_toolkits.mplot3d import Axes3D"
      ]
    },
    {
      "cell_type": "markdown",
      "metadata": {
        "id": "l0DAiuUDCCdm"
      },
      "source": [
        "## Pegando dados"
      ]
    },
    {
      "cell_type": "code",
      "execution_count": 32,
      "metadata": {
        "id": "-_v3pJjtCECt"
      },
      "outputs": [],
      "source": [
        "dados_csv = pd.read_csv(\"population_by_country_2020.csv\")\n",
        "y_csv, x1_csv, x2_csv = dados_csv[\"Population (2020)\"], dados_csv[\"Density (P/Km²)\"], dados_csv[\"Land Area (Km²)\"]\n",
        "\n",
        "x1, x2, y = [], [], []\n",
        "\n",
        "for i in range(x1_csv.shape[0]):\n",
        "    x1.append(x1_csv[i])\n",
        "    x2.append(x2_csv[i])\n",
        "    y.append(y_csv[i])"
      ]
    },
    {
      "attachments": {},
      "cell_type": "markdown",
      "metadata": {},
      "source": [
        "### Gráfico do Conjunto de Dados X1Y"
      ]
    },
    {
      "cell_type": "code",
      "execution_count": 33,
      "metadata": {
        "colab": {
          "base_uri": "https://localhost:8080/"
        },
        "id": "g6ltChdCCobd",
        "outputId": "19986798-171d-4884-c448-9d66bd5516f2"
      },
      "outputs": [
        {
          "data": {
            "text/plain": [
              "<matplotlib.collections.PathCollection at 0x1f5c70dd070>"
            ]
          },
          "execution_count": 33,
          "metadata": {},
          "output_type": "execute_result"
        },
        {
          "data": {
            "image/png": "[encoded data removed]",
            "text/plain": [
              "<Figure size 432x288 with 1 Axes>"
            ]
          },
          "metadata": {
            "needs_background": "light"
          },
          "output_type": "display_data"
        }
      ],
      "source": [
        "plt.scatter(x1,y)"
      ]
    },
    {
      "attachments": {},
      "cell_type": "markdown",
      "metadata": {},
      "source": [
        "### Gráfico do Conjunto de Dados X2Y"
      ]
    },
    {
      "cell_type": "code",
      "execution_count": 34,
      "metadata": {},
      "outputs": [
        {
          "data": {
            "text/plain": [
              "<matplotlib.collections.PathCollection at 0x1f5c7047be0>"
            ]
          },
          "execution_count": 34,
          "metadata": {},
          "output_type": "execute_result"
        },
        {
          "data": {
            "image/png": "[encoded data removed]",
            "text/plain": [
              "<Figure size 432x288 with 1 Axes>"
            ]
          },
          "metadata": {
            "needs_background": "light"
          },
          "output_type": "display_data"
        }
      ],
      "source": [
        "plt.scatter(x2,y)"
      ]
    },
    {
      "attachments": {},
      "cell_type": "markdown",
      "metadata": {
        "id": "M2avFQqlBZ-j"
      },
      "source": [
        "### Função de Coeficiente de Correlação"
      ]
    },
    {
      "cell_type": "code",
      "execution_count": 35,
      "metadata": {},
      "outputs": [],
      "source": [
        "def CoeficienteCorrelacao(x, y):\n",
        "  Sx = 0\n",
        "  Sy = 0\n",
        "  Sxy = 0\n",
        "  Sxx = 0\n",
        "  Syy = 0\n",
        "  x_x_med = []\n",
        "  y_y_med = []\n",
        "  xx = []\n",
        "  yy = []\n",
        "  xy = []\n",
        "\n",
        "  for i in range(len(x)):\n",
        "      Sx += x[i]\n",
        "      Sy += y[i]\n",
        "  x_med = Sx/len(x)\n",
        "  y_med = Sy/len(y)\n",
        "\n",
        "  for i in range(len(x)):\n",
        "      x_x_med.append((x[i] - x_med))\n",
        "      y_y_med.append((y[i] - y_med))\n",
        "\n",
        "  for i in range(len(x)):\n",
        "      xx.append(x_x_med[i]**2)\n",
        "      yy.append(y_y_med[i]**2)\n",
        "      xy.append(y_y_med[i]*x_x_med[i])\n",
        "\n",
        "  # Calculo do Rho\n",
        "  for i in range(len(x)):\n",
        "      Sxy += xy[i]\n",
        "      Sxx += xx[i]\n",
        "      Syy += yy[i]\n",
        "  \n",
        "  return { 'rho': Sxy / math.sqrt(Sxx*Syy), 'sxx': Sxx, 'sxy': Sxy, 'xMed': x_med, 'yMed': y_med} # RHO\n"
      ]
    },
    {
      "attachments": {},
      "cell_type": "markdown",
      "metadata": {},
      "source": [
        "### Correlação entre X1 e Y\n",
        "(Lembrando que esse valor é esperado entre -1 e 1)"
      ]
    },
    {
      "cell_type": "code",
      "execution_count": 36,
      "metadata": {
        "colab": {
          "base_uri": "https://localhost:8080/"
        },
        "id": "ViF4L4_kBg_T",
        "outputId": "8b766e59-eceb-4791-d1f4-63c41e2d3c62"
      },
      "outputs": [
        {
          "name": "stdout",
          "output_type": "stream",
          "text": [
            "O valor da correlação entre X1 e Y é: -0.025395360437054575\n"
          ]
        }
      ],
      "source": [
        "x1_rho = CoeficienteCorrelacao(x1,y)['rho']\n",
        "print(f\"O valor da correlação entre X1 e Y é: {x1_rho}\")"
      ]
    },
    {
      "attachments": {},
      "cell_type": "markdown",
      "metadata": {},
      "source": [
        "### Correlação entre X2 e Y"
      ]
    },
    {
      "cell_type": "code",
      "execution_count": 37,
      "metadata": {},
      "outputs": [
        {
          "name": "stdout",
          "output_type": "stream",
          "text": [
            "O valor da correlação entre X1 e Y é: 0.4557444362371723\n"
          ]
        }
      ],
      "source": [
        "x2_rho = CoeficienteCorrelacao(x2,y)['rho']\n",
        "print(f\"O valor da correlação entre X1 e Y é: {x2_rho}\")"
      ]
    },
    {
      "attachments": {},
      "cell_type": "markdown",
      "metadata": {},
      "source": [
        "### Coeficiente de Determinação entre X1 e Y\n",
        "Valor esperado entre 0 e 1 (Que diz quantos % da variabilidade de y é explicada por xi)"
      ]
    },
    {
      "cell_type": "code",
      "execution_count": 38,
      "metadata": {},
      "outputs": [
        {
          "name": "stdout",
          "output_type": "stream",
          "text": [
            "O valor do coeficiente da determinação entre X1 e Y é: 0.0006449243317279168\n"
          ]
        }
      ],
      "source": [
        "coefDeterminationX1 = math.pow(x1_rho, 2)\n",
        "print(f\"O valor do coeficiente da determinação entre X1 e Y é: {coefDeterminationX1}\")"
      ]
    },
    {
      "attachments": {},
      "cell_type": "markdown",
      "metadata": {},
      "source": [
        "### Coeficiente de Determinação entre X2 e Y"
      ]
    },
    {
      "cell_type": "code",
      "execution_count": 39,
      "metadata": {},
      "outputs": [
        {
          "name": "stdout",
          "output_type": "stream",
          "text": [
            "O valor do coeficiente da determinação entre X1 e Y é: 0.20770299116113802\n"
          ]
        }
      ],
      "source": [
        "coefDeterminationX2 = math.pow(x2_rho, 2)\n",
        "print(f\"O valor do coeficiente da determinação entre X1 e Y é: {coefDeterminationX2}\")"
      ]
    },
    {
      "attachments": {},
      "cell_type": "markdown",
      "metadata": {},
      "source": [
        "### Função para calcular Beta Chápeu"
      ]
    },
    {
      "cell_type": "code",
      "execution_count": 40,
      "metadata": {},
      "outputs": [],
      "source": [
        "def CalculaBeta(x, y):\n",
        "  matrix = np.array(x)\n",
        "  y = np.array(y)\n",
        "\n",
        "  transposta = np.transpose(matrix)\n",
        "  mult = np.dot(transposta,matrix)\n",
        "  inversa = np.linalg.inv(mult)\n",
        "  mult2 = np.dot(inversa, transposta)\n",
        "\n",
        "  return np.dot(mult2,y) #Beta"
      ]
    },
    {
      "attachments": {},
      "cell_type": "markdown",
      "metadata": {},
      "source": [
        "### Valores estimados de Beta Chápeu"
      ]
    },
    {
      "cell_type": "code",
      "execution_count": 41,
      "metadata": {},
      "outputs": [
        {
          "name": "stdout",
          "output_type": "stream",
          "text": [
            "Os Valores de Beta são:\n",
            "\n",
            "\t12884326.827237627\t80.55607498768511\t36.443960153661074"
          ]
        }
      ],
      "source": [
        "base = np.zeros(len(x1))\n",
        "for i in range(len(base)):\n",
        "    base[i] = 1\n",
        "\n",
        "x = []\n",
        "\n",
        "for i in range(len(x1)):\n",
        "    x.append([base[i], x1[i], x2[i]])\n",
        "\n",
        "betas = CalculaBeta(x, y)\n",
        "\n",
        "print(\"Os Valores de Beta são:\\n\")\n",
        "\n",
        "for beta in betas:\n",
        "    print(f\"\\t{beta}\", end=\"\")"
      ]
    },
    {
      "attachments": {},
      "cell_type": "markdown",
      "metadata": {},
      "source": [
        "### Plotando o hiperplano\n",
        "- Deixo aqui um arquivo .py como gráfico pois esse seria interessante ver em 3d e poder mexer porém no arquivo .ipynb isso não é possível\n"
      ]
    },
    {
      "cell_type": "code",
      "execution_count": 49,
      "metadata": {},
      "outputs": [
        {
          "name": "stderr",
          "output_type": "stream",
          "text": [
            "C:\\Users\\55229\\AppData\\Local\\Temp\\ipykernel_4444\\1085466397.py:2: MatplotlibDeprecationWarning: Calling gca() with keyword arguments was deprecated in Matplotlib 3.4. Starting two minor releases later, gca() will take no keyword arguments. The gca() function should only be used to get the current axes, or if no axes exist, create new axes with default keyword arguments. To create a new axes with non-default arguments, use plt.axes() or plt.subplot().\n",
            "  grafico = plothiper.gca(projection='3d')\n"
          ]
        },
        {
          "data": {
            "image/png": "[encoded data removed]",
            "text/plain": [
              "<Figure size 432x288 with 1 Axes>"
            ]
          },
          "metadata": {
            "needs_background": "light"
          },
          "output_type": "display_data"
        }
      ],
      "source": [
        "plothiper = plt.figure()\n",
        "grafico = plothiper.gca(projection='3d')\n",
        "\n",
        "x1g = np.linspace(-10000,10000,100)\n",
        "x2g = np.linspace(-10000,10000,100)\n",
        "\n",
        "XG, YG = np.meshgrid(x1g, x2g)\n",
        "Z = betas[0] + XG*betas[1] + YG*betas[2]\n",
        "\n",
        "# grafico = plt.axes(projection='3d')\n",
        "\n",
        "grafico.plot_wireframe(XG,YG,Z)\n",
        "plt.show()"
      ]
    },
    {
      "cell_type": "code",
      "execution_count": 43,
      "metadata": {},
      "outputs": [
        {
          "name": "stdout",
          "output_type": "stream",
          "text": [
            "[355040239.50487334, 121276522.73529547, 346255436.83473957, 78917275.69012856, 41001366.42401335, 317490061.8478331, 46094598.08933474, 17730140.55529911, 609723049.5536, 83734879.86889626, 26198107.679076266, 49337550.92952228, 23780467.06185022, 49170764.23792328, 24209800.15962945, 95507828.93659447, 40941553.048548445, 72239327.05138174, 25606567.036394775, 31514217.812414847, 21723850.36428439, 32849058.49001936, 23620547.818282954, 45171783.988374785, 57098077.69771673, 36699487.710246846, 33633614.58014113, 16470226.124496602, 53322606.19717402, 31070146.422932614, 20184641.846712824, 112621517.59343515, 99685814.49296813, 77211679.71041149, 34003083.52908064, 28720159.31614956, 36681964.01765606, 24054549.698391728, 344288165.1484561, 29155952.39804054, 91228832.4271611, 28393951.406529076, 59534690.28187348, 58321106.40875656, 24865964.987146754, 41546350.45587313, 21187821.70287498, 32130155.609765373, 18124921.39848744, 45032299.67517398, 34091107.316436276, 30116262.37167406, 24480192.310325824, 17289783.06938732, 292858003.58393306, 59049421.719304875, 14229021.694745477, 15197197.190044515, 22861516.58697836, 57354252.020408124, 21279399.84610476, 16336616.273747291, 39983671.86615923, 111272649.94660133, 39978416.267742425, 16803114.46182689, 21941268.252325013, 19584184.05737824, 14154139.649712823, 19907890.85414592, 19325067.50068571, 58775608.681702495, 35749094.69191006, 26985733.943530947, 21843606.188169573, 13825691.26359698, 17002447.83026312, 13857505.186702942, 18552382.738409474, 52364954.97852354, 14018702.917410767, 13922072.584117427, 16771960.889942007, 35151287.180386946, 14663424.098734759, 15710455.603929695, 17588478.333118543, 16129085.55830324, 16231170.862035077, 15906620.082842428, 27840755.338565603, 16969211.019504666, 15940547.51293224, 16192218.039972246, 17990501.303443193, 20282956.91754142, 15896417.75171434, 29389949.743924335, 16079771.189775594, 13705196.554957926, 14342088.137092002, 14878758.34339338, 15523793.595452515, 13497763.360811042, 21298170.625102207, 27364962.20563695, 16845838.730318286, 77009254.70031038, 13310879.441626366, 17274423.576253522, 19877017.2912594, 13664659.73309263, 30011484.251222413, 13583125.27409226, 14441680.238830779, 23960731.887683466, 25331228.116912685, 14646027.375655476, 26197347.605769917, 24165021.39199553, 13171950.462877236, 14753211.04018233, 16398878.541212607, 15400751.27962245, 35588829.57236531, 22481835.9846479, 50447519.33799104, 15598243.077410076, 13553091.65517291, 14929611.430910602, 14091419.315508878, 15421409.314589832, 16567986.265381964, 19264359.854831144, 14748124.383873554, 69502366.67570929, 13930264.204611076, 13301006.724173415, 13327419.111218577, 13891349.723321646, 13233604.366021624, 15171879.49713265, 42888516.450370215, 13272392.605914732, 33538534.589421917, 22275567.044706367, 13996484.938826902, 13810129.656536937, 13626605.460456092, 13914769.912007716, 15153557.831044976, 13092389.288851837, 13910607.713297203, 13093276.151297547, 14431683.536475938, 13433418.00539647, 13008736.16929185, 13231621.864880841, 13516560.198904771, 13732561.734823959, 13554105.22691941, 13004275.80246737, 12989768.72410284, 20058642.60778576, 14275072.37791448, 13906407.17381329, 14629056.389150681, 13378284.22682879, 12998211.254182627, 22578581.34026145, 18569906.835508704, 13042312.72500518, 13040422.062411534, 13007156.277969804, 13083072.651471399, 12965008.909669396, 13716983.011617426, 13252272.555300293, 12951474.275546148, 16538075.500867112, 13330592.603385447, 15880342.576168517, 12953809.188195474, 13551811.316046353, 13023914.539174078, 12956638.134886283, 12937679.814082334, 12993102.159721626, 12930805.021502651, 12964959.988280555, 12929220.617191749, 12930313.693291295, 12925688.17798528, 12923048.79564317, 12923381.834510796, 12921417.896994056, 12938656.492532983, 12922408.221571451, 12921087.923637738, 12918330.048955675, 12918326.174427493, 12917102.739698378, 12914666.684807828, 12919393.180551691, 12915145.74222113, 12986521.894679965, 12917389.688736234, 12911160.55828177, 27842750.272307813, 12913849.09596496, 12910316.252250055, 12938022.058236705, 12987147.132442322, 15005968.618148444, 12922251.3884581, 12945064.291866781, 12909330.20670928, 12932108.203289876, 13156084.683472674, 12906065.748408187, 12902724.932167042, 12904232.735832829, 12898953.971148606, 12901059.6481744, 12917078.683512397, 12895873.467658153, 12928636.543009037, 12922953.505645065, 12899828.868897356, 12894722.83994766, 12891999.027002377, 13327849.822307682, 12894285.593327506, 12895646.893037489, 13045680.64543796]\n"
          ]
        }
      ],
      "source": [
        "yChapeu = []\n",
        "\n",
        "for i in range(x1_csv.shape[0]):\n",
        "    yChapeu.append(betas[0] + betas[1]*x1[i] + betas[2]*x2[i])\n",
        "\n",
        "print(yChapeu)"
      ]
    },
    {
      "cell_type": "code",
      "execution_count": 44,
      "metadata": {},
      "outputs": [
        {
          "name": "stdout",
          "output_type": "stream",
          "text": [
            "[1083167001.4951267, 1255957000.2647045, -15644866.834739566, 194014437.30987144, 178991533.57598665, -105236911.8478331, 158957508.91066527, 146624035.4447009, -463801039.55359995, 44920709.13110374, 100354657.32092373, 65019943.07047772, 85499875.93814978, 52759511.76207672, 72950326.84037055, -6535147.936594471, 43211696.951451555, 11532259.948618263, 58123655.963605225, 38250707.18758515, 46090247.63571561, 32395569.50998064, 36858876.181717046, 14196529.011625215, 2056724.3022832721, 17636460.289753154, 19887501.419858873, 34790168.8755034, -2550728.19717402, 15681028.577067386, 25242995.153287176, -67510288.59343515, -56000196.49296813, -33579466.71041149, 9782038.470919363, 11311466.683850441, 2060946.982343942, 13800275.301608272, -306613395.1484561, 7664760.6019594595, -56527455.4271611, 4974907.593470924, -26657704.28187348, -25676323.40875656, 7414645.012853246, -10478988.455873132, 9748553.29712502, -2442941.609765373, 10902425.601512559, -16580471.675173983, -6552001.316436276, -3711088.371674061, 1759057.6896741763, 8466304.93061268, -267418839.58393306, -35035357.719304875, 9579142.305254523, 6197998.809955485, -2081145.586978361, -37228970.020408124, -2016668.8461047597, 2687809.7262527086, -20900867.86615923, -92542081.94660133, -21705037.267742425, 1043133.5381731093, -4353742.252325013, -2173891.05737824, 2973150.3502871767, -3258291.8541459218, -2653882.5006857105, -42451168.681702495, -19951074.69191006, -12167576.943530947, -8787128.188169573, -941813.2635969799, -4947100.830263119, -2043159.1867029425, -6759063.7384094745, -40724795.97852354, -2439225.9174107667, -2548117.5841174275, -5443972.889942007, -23984504.180386946, -3837742.098734759, -5005443.603929695, -7155441.333118543, -5946643.558303241, -6028599.862035077, -5786065.082842428, -17754224.338565603, -7097319.019504666, -6074702.512932239, -6527026.039972246, -8498159.303443193, -10833016.917541418, -6900395.7517143395, -20478419.743924335, -7335483.189775594, -5077752.554957926, -5700302.137092002, -6641178.34339338, -7580914.595452515, -6013145.360811042, -14044451.625102207, -20250438.20563695, -9887211.730318286, -70157244.70031038, -6479434.441626366, -10666057.576253522, -13375213.2912594, -7185050.73309263, -23998634.251222413, -7742129.274092261, -8653572.238830779, -18421729.887683466, -19842037.116912685, -9186911.375655476, -20784715.605769917, -19086088.39199553, -8095670.462877236, -9668575.04018233, -11366409.541212607, -10474271.27962245, -30776573.572365306, -17667563.9846479, -45823984.33799104, -11297576.077410076, -9295596.65517291, -10819397.430910602, -10055605.315508878, -11430728.314589832, -13031701.265381964, -15793045.854831144, -11463318.383873554, -66235046.67570929, -10968127.204611076, -10342439.724173415, -10456497.111218577, -11012929.723321646, -10358968.366021624, -12442326.49713265, -40357226.450370215, -10870309.605914732, -31196885.589421917, -20060974.044706367, -11857685.938826902, -11726738.656536937, -11547724.460456092, -11956637.912007716, -13263339.831044976, -11403760.288851837, -12517657.713297203, -11694697.151297547, -13105326.536475938, -12120234.00539647, -11737389.16929185, -12026044.864880841, -12358853.198904771, -12747534.734823959, -12658977.22691941, -12110258.80246737, -12124072.72410284, -19272854.60778576, -13505205.37791448, -13223106.17381329, -13981548.389150681, -12750234.22682879, -12374350.254182627, -21984366.34026145, -17984345.835508704, -12487562.72500518, -12501864.062411534, -12565848.277969804, -12646448.651471399, -12564898.909669396, -13320863.011617426, -12859795.555300293, -12576151.275546148, -16197280.500867112, -13024969.603385447, -15583313.576168517, -12666504.188195474, -13266873.316046353, -12743334.539174078, -12685221.134886283, -12719371.814082334, -12794955.159721626, -12747347.021502651, -12791423.988280555, -12760746.617191749, -12766355.693291295, -12806619.17798528, -12808272.79564317, -12810963.834510796, -12810548.896994056, -12831981.492532983, -12816959.221571451, -12816631.923637738, -12820106.048955675, -12820562.174427493, -12832160.739698378, -12837426.684807828, -12847443.180551691, -12849581.74222113, -12924198.894679965, -12858280.688736234, -12853670.55828177, -27786000.272307813, -12858634.09596496, -12857193.252250055, -12889196.058236705, -12944371.132442322, -14966782.618148444, -12883642.3884581, -12906535.291866781, -12871224.20670928, -12898191.203289876, -13122391.683472674, -12875875.748408187, -12876551.932167042, -12886155.735832829, -12881392.971148606, -12886083.6481744, -12905316.683512397, -12884597.467658153, -12917826.543009037, -12913082.505645065, -12893755.868897356, -12888922.83994766, -12887008.027002377, -13324391.822307682, -12892661.593327506, -12894292.893037489, -13044879.64543796]\n"
          ]
        }
      ],
      "source": [
        "residuos = []\n",
        "\n",
        "for i in range(x1_csv.shape[0]):\n",
        "    residuos.append(y[i]-yChapeu[i])\n",
        "\n",
        "print(residuos)"
      ]
    },
    {
      "attachments": {},
      "cell_type": "markdown",
      "metadata": {},
      "source": [
        "## g) Faça o histograma dos erros de estimação encontrados no item anterior. Comente sobre sua característica."
      ]
    },
    {
      "cell_type": "code",
      "execution_count": 51,
      "metadata": {},
      "outputs": [
        {
          "data": {
            "image/png": "[encoded data removed]",
            "text/plain": [
              "<Figure size 1440x720 with 1 Axes>"
            ]
          },
          "metadata": {
            "needs_background": "light"
          },
          "output_type": "display_data"
        }
      ],
      "source": [
        "fig, axe = plt.subplots(figsize=(20,10))\n",
        "plt.hist(yChapeu, bins=100)\n",
        "plt.grid(True)\n",
        "# plt.xticks(np.arange(-400000, 900000, 100000))\n",
        "plt.yticks(np.arange(0, 150, 5))\n",
        "plt.show()"
      ]
    }
  ],
  "metadata": {
    "colab": {
      "collapsed_sections": [
        "gAJ5Ew6oCNas",
        "Y1m8nDDpCZCd",
        "hOplPWHVCll2"
      ],
      "provenance": []
    },
    "kernelspec": {
      "display_name": "Python 3",
      "language": "python",
      "name": "python3"
    },
    "language_info": {
      "codemirror_mode": {
        "name": "ipython",
        "version": 3
      },
      "file_extension": ".py",
      "mimetype": "text/x-python",
      "name": "python",
      "nbconvert_exporter": "python",
      "pygments_lexer": "ipython3",
      "version": "3.9.13"
    },
    "vscode": {
      "interpreter": {
        "hash": "193c86f2a5d11ecf02cefa4b7a4d03add9aa5fac1aaefae7fbafe5c005104cd1"
      }
    }
  },
  "nbformat": 4,
  "nbformat_minor": 0
}
