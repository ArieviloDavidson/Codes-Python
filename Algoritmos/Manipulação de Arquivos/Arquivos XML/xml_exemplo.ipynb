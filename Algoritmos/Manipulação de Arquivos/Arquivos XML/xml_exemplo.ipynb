{
 "cells": [
  {
   "cell_type": "code",
   "execution_count": 28,
   "metadata": {},
   "outputs": [],
   "source": [
    "import xml.etree.ElementTree as ET\n",
    "\n",
    "# Cria o elemento raiz\n",
    "root = ET.Element(\"produto\")\n",
    "\n",
    "# Cria um subelemento com texto\n",
    "child = ET.SubElement(root, \"descricao\")\n",
    "child.text = \"Produto1\"\n",
    "child2 = ET.SubElement(root, \"saldo\")\n",
    "child2.text = \"20\"\n",
    "\n",
    "\n",
    "# Cria o objeto ElementTree e escreve para um arquivo\n",
    "tree = ET.ElementTree(root)\n",
    "tree.write(\"exemplo.xml\")"
   ]
  }
 ],
 "metadata": {
  "kernelspec": {
   "display_name": "Python 3",
   "language": "python",
   "name": "python3"
  },
  "language_info": {
   "codemirror_mode": {
    "name": "ipython",
    "version": 3
   },
   "file_extension": ".py",
   "mimetype": "text/x-python",
   "name": "python",
   "nbconvert_exporter": "python",
   "pygments_lexer": "ipython3",
   "version": "3.11.2"
  },
  "orig_nbformat": 4
 },
 "nbformat": 4,
 "nbformat_minor": 2
}
