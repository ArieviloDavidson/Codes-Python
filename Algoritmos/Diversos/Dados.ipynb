{
 "cells": [
  {
   "cell_type": "code",
   "execution_count": 12,
   "metadata": {},
   "outputs": [
    {
     "name": "stdout",
     "output_type": "stream",
     "text": [
      "Jogador 1: Davidson venceu por 4 a 3\n"
     ]
    }
   ],
   "source": [
    "# Questão 4\n",
    "\n",
    "import random\n",
    "nome1 = input('Digite seu nome (jogador 1): ')\n",
    "nome2 = input('Digite seu nome (Jogador 2): ')\n",
    "djog1 = random.randint(1,6) # dado do jogador 1\n",
    "djog2 = random.randint(1,6) # dado do jogador 2\n",
    "\n",
    "if(djog1 > djog2):\n",
    "    print('Jogador 1:', nome1, 'venceu por', djog1, 'a', djog2)\n",
    "if(djog2 > djog1):\n",
    "    print('Jogador 2:', nome2, 'venceu por', djog2, 'a', djog1)\n",
    "if(djog1 == djog2):\n",
    "    print('Empate!!! por', djog1, 'a', djog2)\n",
    "\n",
    "\n"
   ]
  }
 ],
 "metadata": {
  "kernelspec": {
   "display_name": "Python 3.9.13 64-bit (microsoft store)",
   "language": "python",
   "name": "python3"
  },
  "language_info": {
   "codemirror_mode": {
    "name": "ipython",
    "version": 3
   },
   "file_extension": ".py",
   "mimetype": "text/x-python",
   "name": "python",
   "nbconvert_exporter": "python",
   "pygments_lexer": "ipython3",
   "version": "3.9.13 (tags/v3.9.13:6de2ca5, May 17 2022, 16:36:42) [MSC v.1929 64 bit (AMD64)]"
  },
  "orig_nbformat": 4,
  "vscode": {
   "interpreter": {
    "hash": "193c86f2a5d11ecf02cefa4b7a4d03add9aa5fac1aaefae7fbafe5c005104cd1"
   }
  }
 },
 "nbformat": 4,
 "nbformat_minor": 2
}
