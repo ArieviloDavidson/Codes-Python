{
 "cells": [
  {
   "cell_type": "code",
   "execution_count": 3,
   "metadata": {},
   "outputs": [
    {
     "name": "stdout",
     "output_type": "stream",
     "text": [
      "a =  5\n",
      "b =  6\n",
      "c =  4\n",
      "A média artmética entre é igual a  5.0\n"
     ]
    }
   ],
   "source": [
    "# Questão 1\n",
    "\n",
    "a = input('Digite o primeiro número: ')\n",
    "b = input('Digite o segundo número: ')\n",
    "c = input('Digite o terceiro número: ')\n",
    "print('a = ', a)\n",
    "print('b = ', b)\n",
    "print('c = ', c)\n",
    "a = int(a)\n",
    "b = int(b)\n",
    "c = int(c)\n",
    "media = (a+b+c)/3\n",
    "print('A média artmética entre é igual a ', media)"
   ]
  }
 ],
 "metadata": {
  "kernelspec": {
   "display_name": "Python 3.9.13 64-bit (microsoft store)",
   "language": "python",
   "name": "python3"
  },
  "language_info": {
   "codemirror_mode": {
    "name": "ipython",
    "version": 3
   },
   "file_extension": ".py",
   "mimetype": "text/x-python",
   "name": "python",
   "nbconvert_exporter": "python",
   "pygments_lexer": "ipython3",
   "version": "3.9.13 (tags/v3.9.13:6de2ca5, May 17 2022, 16:36:42) [MSC v.1929 64 bit (AMD64)]"
  },
  "orig_nbformat": 4,
  "vscode": {
   "interpreter": {
    "hash": "193c86f2a5d11ecf02cefa4b7a4d03add9aa5fac1aaefae7fbafe5c005104cd1"
   }
  }
 },
 "nbformat": 4,
 "nbformat_minor": 2
}
