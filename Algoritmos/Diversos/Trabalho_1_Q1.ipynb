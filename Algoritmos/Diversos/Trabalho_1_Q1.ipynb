{
 "cells": [
  {
   "cell_type": "code",
   "execution_count": 18,
   "metadata": {},
   "outputs": [
    {
     "name": "stdout",
     "output_type": "stream",
     "text": [
      "a =  3\n",
      "b =  5\n",
      "c =  7\n",
      "A média artmética entre é igual a  5.0\n",
      "5 é a mediana\n"
     ]
    }
   ],
   "source": [
    "# Questão 1\n",
    "\n",
    "a = input('Digite o primeiro número: ')\n",
    "b = input('Digite o segundo número: ')\n",
    "c = input('Digite o terceiro número: ')\n",
    "print('a = ', a)\n",
    "print('b = ', b)\n",
    "print('c = ', c)\n",
    "a = int(a)\n",
    "b = int(b)\n",
    "c = int(c)\n",
    "media = (a+b+c)/3\n",
    "print('A média artmética entre é igual a ', media)\n",
    "if(a < b):\n",
    "    if (c > b):\n",
    "        print(b, 'é a mediana')\n",
    "    else:\n",
    "        if(c > a):\n",
    "            print(c, 'é a mediana')\n",
    "        else:\n",
    "            print(a, 'é a mediana')\n",
    "\n",
    "    \n"
   ]
  }
 ],
 "metadata": {
  "kernelspec": {
   "display_name": "Python 3.9.13 64-bit (microsoft store)",
   "language": "python",
   "name": "python3"
  },
  "language_info": {
   "codemirror_mode": {
    "name": "ipython",
    "version": 3
   },
   "file_extension": ".py",
   "mimetype": "text/x-python",
   "name": "python",
   "nbconvert_exporter": "python",
   "pygments_lexer": "ipython3",
   "version": "3.9.13"
  },
  "orig_nbformat": 4,
  "vscode": {
   "interpreter": {
    "hash": "193c86f2a5d11ecf02cefa4b7a4d03add9aa5fac1aaefae7fbafe5c005104cd1"
   }
  }
 },
 "nbformat": 4,
 "nbformat_minor": 2
}
