{
 "cells": [
  {
   "cell_type": "code",
   "execution_count": 1,
   "metadata": {},
   "outputs": [
    {
     "name": "stdout",
     "output_type": "stream",
     "text": [
      "A banca sempre vence!!!\n",
      "98\n"
     ]
    }
   ],
   "source": [
    "# Questão 3\n",
    "\n",
    "import random\n",
    "num = 300\n",
    "while(int(num) <=1 or int(num) >=100):\n",
    "    num = input('Digite seu numero da sorte entre 1 e 100: ')\n",
    "    if(int(num) <=1 or int(num) >=100):\n",
    "        print('Número invalido!!! tente novamente!!!')\n",
    "\n",
    "escolha = random.randint(1,100)\n",
    "\n",
    "if(int(num) == escolha):\n",
    "    print('Você venceu!!!')\n",
    "else:\n",
    "    print('A banca sempre vence!!!')\n",
    "\n",
    "# prova real\n",
    "print(escolha)\n",
    "\n",
    "    "
   ]
  }
 ],
 "metadata": {
  "kernelspec": {
   "display_name": "Python 3.9.13 64-bit (microsoft store)",
   "language": "python",
   "name": "python3"
  },
  "language_info": {
   "codemirror_mode": {
    "name": "ipython",
    "version": 3
   },
   "file_extension": ".py",
   "mimetype": "text/x-python",
   "name": "python",
   "nbconvert_exporter": "python",
   "pygments_lexer": "ipython3",
   "version": "3.9.13"
  },
  "orig_nbformat": 4,
  "vscode": {
   "interpreter": {
    "hash": "193c86f2a5d11ecf02cefa4b7a4d03add9aa5fac1aaefae7fbafe5c005104cd1"
   }
  }
 },
 "nbformat": 4,
 "nbformat_minor": 2
}
