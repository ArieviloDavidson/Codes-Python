{
 "cells": [
  {
   "cell_type": "code",
   "execution_count": 60,
   "metadata": {},
   "outputs": [
    {
     "ename": "ValueError",
     "evalue": "invalid literal for int() with base 10: ''",
     "output_type": "error",
     "traceback": [
      "\u001b[1;31m---------------------------------------------------------------------------\u001b[0m",
      "\u001b[1;31mValueError\u001b[0m                                Traceback (most recent call last)",
      "\u001b[1;32mc:\\Users\\55229\\Documents\\Faculdade\\Tópicos Especiais em Programação\\Trabalho_1_Q3.ipynb Célula: 1\u001b[0m in \u001b[0;36m<cell line: 5>\u001b[1;34m()\u001b[0m\n\u001b[0;32m      <a href='vscode-notebook-cell:/c%3A/Users/55229/Documents/Faculdade/T%C3%B3picos%20Especiais%20em%20Programa%C3%A7%C3%A3o/Trabalho_1_Q3.ipynb#W0sZmlsZQ%3D%3D?line=4'>5</a>\u001b[0m \u001b[39mwhile\u001b[39;00m(\u001b[39mint\u001b[39m(num) \u001b[39m<\u001b[39m\u001b[39m=\u001b[39m\u001b[39m1\u001b[39m \u001b[39mor\u001b[39;00m \u001b[39mint\u001b[39m(num) \u001b[39m>\u001b[39m\u001b[39m=\u001b[39m\u001b[39m100\u001b[39m):\n\u001b[0;32m      <a href='vscode-notebook-cell:/c%3A/Users/55229/Documents/Faculdade/T%C3%B3picos%20Especiais%20em%20Programa%C3%A7%C3%A3o/Trabalho_1_Q3.ipynb#W0sZmlsZQ%3D%3D?line=5'>6</a>\u001b[0m     num \u001b[39m=\u001b[39m \u001b[39minput\u001b[39m(\u001b[39m'\u001b[39m\u001b[39mDigite seu numero da sorte entre 1 e 100: \u001b[39m\u001b[39m'\u001b[39m)\n\u001b[1;32m----> <a href='vscode-notebook-cell:/c%3A/Users/55229/Documents/Faculdade/T%C3%B3picos%20Especiais%20em%20Programa%C3%A7%C3%A3o/Trabalho_1_Q3.ipynb#W0sZmlsZQ%3D%3D?line=6'>7</a>\u001b[0m     \u001b[39mif\u001b[39;00m(\u001b[39mint\u001b[39;49m(num) \u001b[39m<\u001b[39m\u001b[39m=\u001b[39m\u001b[39m1\u001b[39m \u001b[39mor\u001b[39;00m \u001b[39mint\u001b[39m(num) \u001b[39m>\u001b[39m\u001b[39m=\u001b[39m\u001b[39m100\u001b[39m):\n\u001b[0;32m      <a href='vscode-notebook-cell:/c%3A/Users/55229/Documents/Faculdade/T%C3%B3picos%20Especiais%20em%20Programa%C3%A7%C3%A3o/Trabalho_1_Q3.ipynb#W0sZmlsZQ%3D%3D?line=7'>8</a>\u001b[0m         \u001b[39mprint\u001b[39m(\u001b[39m'\u001b[39m\u001b[39mNúmero invalido!!! tente novamente!!!\u001b[39m\u001b[39m'\u001b[39m)\n\u001b[0;32m     <a href='vscode-notebook-cell:/c%3A/Users/55229/Documents/Faculdade/T%C3%B3picos%20Especiais%20em%20Programa%C3%A7%C3%A3o/Trabalho_1_Q3.ipynb#W0sZmlsZQ%3D%3D?line=9'>10</a>\u001b[0m escolha \u001b[39m=\u001b[39m random\u001b[39m.\u001b[39mrandint(\u001b[39m1\u001b[39m,\u001b[39m100\u001b[39m)\n",
      "\u001b[1;31mValueError\u001b[0m: invalid literal for int() with base 10: ''"
     ]
    }
   ],
   "source": [
    "# Questão 3\n",
    "\n",
    "import random\n",
    "num = 300\n",
    "while(int(num) <=1 or int(num) >=100):\n",
    "    num = input('Digite seu numero da sorte entre 1 e 100: ')\n",
    "    if(int(num) <=1 or int(num) >=100):\n",
    "        print('Número invalido!!! tente novamente!!!')\n",
    "\n",
    "escolha = random.randint(1,100)\n",
    "\n",
    "if(int(num) == escolha):\n",
    "    print('Você venceu!!!')\n",
    "else:\n",
    "    print('A banca sempre vence!!!')\n",
    "\n",
    "# prova real\n",
    "print(escolha)\n",
    "\n",
    "    "
   ]
  }
 ],
 "metadata": {
  "kernelspec": {
   "display_name": "Python 3.9.13 64-bit (microsoft store)",
   "language": "python",
   "name": "python3"
  },
  "language_info": {
   "codemirror_mode": {
    "name": "ipython",
    "version": 3
   },
   "file_extension": ".py",
   "mimetype": "text/x-python",
   "name": "python",
   "nbconvert_exporter": "python",
   "pygments_lexer": "ipython3",
   "version": "3.9.13"
  },
  "orig_nbformat": 4,
  "vscode": {
   "interpreter": {
    "hash": "193c86f2a5d11ecf02cefa4b7a4d03add9aa5fac1aaefae7fbafe5c005104cd1"
   }
  }
 },
 "nbformat": 4,
 "nbformat_minor": 2
}
