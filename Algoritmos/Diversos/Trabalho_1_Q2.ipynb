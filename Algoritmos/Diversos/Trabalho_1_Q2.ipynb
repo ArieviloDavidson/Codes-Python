{
 "cells": [
  {
   "cell_type": "code",
   "execution_count": 5,
   "metadata": {},
   "outputs": [
    {
     "name": "stdout",
     "output_type": "stream",
     "text": [
      "Entre 1000 e 10000 existem 750 números pares divisíveis por 3 e 4 e 0 números ímpares divisíveis por 3 e 4!\n"
     ]
    }
   ],
   "source": [
    "# Questão 2\n",
    "\n",
    "cont = 0\n",
    "cont1 = 0\n",
    "cont2 = 0\n",
    "for cont in range(1000,10000):\n",
    "    if(cont % 4 == 0 and cont % 3 == 0):\n",
    "        if(cont % 2 == 0):\n",
    "            cont1 = cont1 + 1\n",
    "        else:\n",
    "            cont2 = cont2 + 1\n",
    "print('Entre 1000 e 10000 existem', cont1, 'números pares divisíveis por 3 e 4 e', cont2, 'números ímpares divisíveis por 3 e 4!')"
   ]
  }
 ],
 "metadata": {
  "kernelspec": {
   "display_name": "Python 3.9.13 64-bit (microsoft store)",
   "language": "python",
   "name": "python3"
  },
  "language_info": {
   "codemirror_mode": {
    "name": "ipython",
    "version": 3
   },
   "file_extension": ".py",
   "mimetype": "text/x-python",
   "name": "python",
   "nbconvert_exporter": "python",
   "pygments_lexer": "ipython3",
   "version": "3.9.13"
  },
  "orig_nbformat": 4,
  "vscode": {
   "interpreter": {
    "hash": "193c86f2a5d11ecf02cefa4b7a4d03add9aa5fac1aaefae7fbafe5c005104cd1"
   }
  }
 },
 "nbformat": 4,
 "nbformat_minor": 2
}
