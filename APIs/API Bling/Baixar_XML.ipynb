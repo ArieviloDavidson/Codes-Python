{
 "cells": [
  {
   "cell_type": "code",
   "execution_count": 2,
   "metadata": {},
   "outputs": [],
   "source": [
    "import requests\n",
    "import os\n",
    "\n",
    "mes = 2\n",
    "ano = 2023\n",
    "\n",
    "api_key = \"Api_key\"\n",
    "filters = f\"dataEmissao[01/{mes}/{ano} 00:00:00 TO 28/{mes}/{ano} 23:59:59]\"\n",
    "\n",
    "diretorio = f'Notas_Fiscais_{mes}_{ano}'\n",
    "if not os.path.exists(diretorio):\n",
    "    os.makedirs(diretorio)\n",
    "\n",
    "url = f\"https://bling.com.br/Api/v2/notasfiscais/page=1/json/?apikey={api_key}&filters={filters}\"\n",
    "\n",
    "page = 1\n",
    "while True:\n",
    "    response = requests.get(url)\n",
    "    data = response.json()\n",
    "    \n",
    "    for nota in data['retorno']['notasfiscais']:\n",
    "        numero = nota['notafiscal']['numero']\n",
    "        serie = nota['notafiscal']['serie']\n",
    "        link = nota['notafiscal']['xml']\n",
    "        response = requests.get(link)\n",
    "        with open(f'{diretorio}/NotaFiscal_{numero}_Serie_{serie}.xml', 'wb') as file:\n",
    "            file.write(response.content)\n",
    "\n",
    "    if len(data['retorno']['notasfiscais']) < 100:\n",
    "        break\n",
    "        \n",
    "    page += 1\n",
    "    url = f\"https://bling.com.br/Api/v2/notasfiscais/page={page}/json/?apikey={api_key}&filters={filters}\"\n",
    "\n"
   ]
  }
 ],
 "metadata": {
  "kernelspec": {
   "display_name": "Python 3",
   "language": "python",
   "name": "python3"
  },
  "language_info": {
   "codemirror_mode": {
    "name": "ipython",
    "version": 3
   },
   "file_extension": ".py",
   "mimetype": "text/x-python",
   "name": "python",
   "nbconvert_exporter": "python",
   "pygments_lexer": "ipython3",
   "version": "3.11.2"
  },
  "orig_nbformat": 4,
  "vscode": {
   "interpreter": {
    "hash": "fbb0541e2262f480ab764c074344b03bf41e10a920b06c3ac968c8f93d1f6ad9"
   }
  }
 },
 "nbformat": 4,
 "nbformat_minor": 2
}
